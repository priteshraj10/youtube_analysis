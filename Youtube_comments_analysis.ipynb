{
 "cells": [
  {
   "cell_type": "code",
   "execution_count": 30,
   "metadata": {},
   "outputs": [],
   "source": [
    "import pandas as pd"
   ]
  },
  {
   "cell_type": "markdown",
   "metadata": {},
   "source": [
    "Sentiment analysis of comments through language conversion"
   ]
  },
  {
   "cell_type": "code",
   "execution_count": 31,
   "metadata": {},
   "outputs": [],
   "source": [
    "sent_df = pd.read_csv('Youtube_Polarity_of_100.csv')\n",
    "sent_df = sent_df[:80]"
   ]
  },
  {
   "cell_type": "code",
   "execution_count": 32,
   "metadata": {},
   "outputs": [],
   "source": [
    "#Create a function to complete the negative,neutral and positive analysis\n",
    "def getAnalysis(score):\n",
    "    if score <0:\n",
    "     return 'Negative'\n",
    "    elif score == 0:\n",
    "        return 'Neutral'\n",
    "    else:\n",
    "        return 'Positive'"
   ]
  },
  {
   "cell_type": "code",
   "execution_count": 33,
   "metadata": {},
   "outputs": [],
   "source": [
    "sent_df['Analysis'] =sent_df['Polarity'].apply(getAnalysis)"
   ]
  },
  {
   "cell_type": "code",
   "execution_count": 34,
   "metadata": {},
   "outputs": [
    {
     "data": {
      "text/html": [
       "<div>\n",
       "<style scoped>\n",
       "    .dataframe tbody tr th:only-of-type {\n",
       "        vertical-align: middle;\n",
       "    }\n",
       "\n",
       "    .dataframe tbody tr th {\n",
       "        vertical-align: top;\n",
       "    }\n",
       "\n",
       "    .dataframe thead th {\n",
       "        text-align: right;\n",
       "    }\n",
       "</style>\n",
       "<table border=\"1\" class=\"dataframe\">\n",
       "  <thead>\n",
       "    <tr style=\"text-align: right;\">\n",
       "      <th></th>\n",
       "      <th>Unnamed: 0</th>\n",
       "      <th>video_ids</th>\n",
       "      <th>comment</th>\n",
       "      <th>comment_id</th>\n",
       "      <th>language</th>\n",
       "      <th>comment_en</th>\n",
       "      <th>Subjectivity</th>\n",
       "      <th>Polarity</th>\n",
       "      <th>Analysis</th>\n",
       "    </tr>\n",
       "  </thead>\n",
       "  <tbody>\n",
       "    <tr>\n",
       "      <th>0</th>\n",
       "      <td>0</td>\n",
       "      <td>SKkXMsaJHc0</td>\n",
       "      <td>जय हो।</td>\n",
       "      <td>Ugz65S0bU0aJ3UDeVvZ4AaABAg</td>\n",
       "      <td>ne</td>\n",
       "      <td>Jai Ho</td>\n",
       "      <td>0.0000</td>\n",
       "      <td>0.0000</td>\n",
       "      <td>Neutral</td>\n",
       "    </tr>\n",
       "    <tr>\n",
       "      <th>1</th>\n",
       "      <td>1</td>\n",
       "      <td>ohZZccWNwtM</td>\n",
       "      <td>भगवान राम की कृपा श्री योगी आदित्यनाथ जी पर हम...</td>\n",
       "      <td>Ugy3DIK-GalL4RdpCgR4AaABAg</td>\n",
       "      <td>hi</td>\n",
       "      <td>May the grace of Lord Ram always be 🙏💞 on Shri...</td>\n",
       "      <td>0.0000</td>\n",
       "      <td>0.0000</td>\n",
       "      <td>Neutral</td>\n",
       "    </tr>\n",
       "    <tr>\n",
       "      <th>2</th>\n",
       "      <td>2</td>\n",
       "      <td>dXryeksPj2w</td>\n",
       "      <td>सर कोई स्वयं सहायता समूह से रिलेटेड जानकारी हो...</td>\n",
       "      <td>UgweAYDCotz6SUutOFN4AaABAg</td>\n",
       "      <td>hi</td>\n",
       "      <td>Sir, if you have any information related to se...</td>\n",
       "      <td>0.3500</td>\n",
       "      <td>0.0000</td>\n",
       "      <td>Neutral</td>\n",
       "    </tr>\n",
       "    <tr>\n",
       "      <th>3</th>\n",
       "      <td>3</td>\n",
       "      <td>dXryeksPj2w</td>\n",
       "      <td>Jai Shiv Shanker bum bum her her</td>\n",
       "      <td>UgyXnzQ0YBFPO6xTEQR4AaABAg</td>\n",
       "      <td>en</td>\n",
       "      <td>Jai Shiv Shanker bum bum her her</td>\n",
       "      <td>0.0000</td>\n",
       "      <td>0.0000</td>\n",
       "      <td>Neutral</td>\n",
       "    </tr>\n",
       "    <tr>\n",
       "      <th>4</th>\n",
       "      <td>4</td>\n",
       "      <td>dXryeksPj2w</td>\n",
       "      <td>उत्तर प्रदेश की शान आदरणीय महाराज जी की जय हो।</td>\n",
       "      <td>UgzdYA2h-n1grOCyECJ4AaABAg</td>\n",
       "      <td>hi</td>\n",
       "      <td>May the glory of Uttar Pradesh be hailed by th...</td>\n",
       "      <td>0.0000</td>\n",
       "      <td>0.0000</td>\n",
       "      <td>Neutral</td>\n",
       "    </tr>\n",
       "    <tr>\n",
       "      <th>...</th>\n",
       "      <td>...</td>\n",
       "      <td>...</td>\n",
       "      <td>...</td>\n",
       "      <td>...</td>\n",
       "      <td>...</td>\n",
       "      <td>...</td>\n",
       "      <td>...</td>\n",
       "      <td>...</td>\n",
       "      <td>...</td>\n",
       "    </tr>\n",
       "    <tr>\n",
       "      <th>75</th>\n",
       "      <td>75</td>\n",
       "      <td>2njbGNckwHA</td>\n",
       "      <td>6800शिक्षकोंकीनियुक्तिकरो  69000 शिक्षक भर्ती ...</td>\n",
       "      <td>UgxLnL-bijap4R1NQch4AaABAg</td>\n",
       "      <td>hi</td>\n",
       "      <td>There are 6800 selected candidates for recruit...</td>\n",
       "      <td>0.0000</td>\n",
       "      <td>0.0000</td>\n",
       "      <td>Neutral</td>\n",
       "    </tr>\n",
       "    <tr>\n",
       "      <th>76</th>\n",
       "      <td>76</td>\n",
       "      <td>2njbGNckwHA</td>\n",
       "      <td>6800शिक्षकोंकीनियुक्तिकरो  69000 शिक्षक भर्ती ...</td>\n",
       "      <td>Ugx8u6S4ABvtv7R8YF54AaABAg</td>\n",
       "      <td>hi</td>\n",
       "      <td>There are 6800 selected candidates for recruit...</td>\n",
       "      <td>0.0000</td>\n",
       "      <td>0.0000</td>\n",
       "      <td>Neutral</td>\n",
       "    </tr>\n",
       "    <tr>\n",
       "      <th>77</th>\n",
       "      <td>77</td>\n",
       "      <td>2njbGNckwHA</td>\n",
       "      <td>6800शिक्षकोंकीनियुक्तिकरो  69000 शिक्षक भर्ती ...</td>\n",
       "      <td>Ugz80vaWPGj8KSq2MD94AaABAg</td>\n",
       "      <td>hi</td>\n",
       "      <td>There are 6800 selected candidates for recruit...</td>\n",
       "      <td>0.0000</td>\n",
       "      <td>0.0000</td>\n",
       "      <td>Neutral</td>\n",
       "    </tr>\n",
       "    <tr>\n",
       "      <th>78</th>\n",
       "      <td>78</td>\n",
       "      <td>2njbGNckwHA</td>\n",
       "      <td>6800शिक्षकोंकीनियुक्तिकरो  69000 शिक्षक भर्ती ...</td>\n",
       "      <td>UgzYqkyc1iHdLMcV35d4AaABAg</td>\n",
       "      <td>hi</td>\n",
       "      <td>There are 6800 selected candidates for recruit...</td>\n",
       "      <td>0.0000</td>\n",
       "      <td>0.0000</td>\n",
       "      <td>Neutral</td>\n",
       "    </tr>\n",
       "    <tr>\n",
       "      <th>79</th>\n",
       "      <td>79</td>\n",
       "      <td>2njbGNckwHA</td>\n",
       "      <td>मुख्यमंत्री जी को मेरा प्रणाम। आप ने पूछा है।उ...</td>\n",
       "      <td>UgxnfNTpd7lHPRKCUl14AaABAg</td>\n",
       "      <td>hi</td>\n",
       "      <td>My salutations to the Chief Minister. You have...</td>\n",
       "      <td>0.5625</td>\n",
       "      <td>-0.4375</td>\n",
       "      <td>Negative</td>\n",
       "    </tr>\n",
       "  </tbody>\n",
       "</table>\n",
       "<p>80 rows × 9 columns</p>\n",
       "</div>"
      ],
      "text/plain": [
       "    Unnamed: 0    video_ids  \\\n",
       "0            0  SKkXMsaJHc0   \n",
       "1            1  ohZZccWNwtM   \n",
       "2            2  dXryeksPj2w   \n",
       "3            3  dXryeksPj2w   \n",
       "4            4  dXryeksPj2w   \n",
       "..         ...          ...   \n",
       "75          75  2njbGNckwHA   \n",
       "76          76  2njbGNckwHA   \n",
       "77          77  2njbGNckwHA   \n",
       "78          78  2njbGNckwHA   \n",
       "79          79  2njbGNckwHA   \n",
       "\n",
       "                                              comment  \\\n",
       "0                                              जय हो।   \n",
       "1   भगवान राम की कृपा श्री योगी आदित्यनाथ जी पर हम...   \n",
       "2   सर कोई स्वयं सहायता समूह से रिलेटेड जानकारी हो...   \n",
       "3                    Jai Shiv Shanker bum bum her her   \n",
       "4      उत्तर प्रदेश की शान आदरणीय महाराज जी की जय हो।   \n",
       "..                                                ...   \n",
       "75  6800शिक्षकोंकीनियुक्तिकरो  69000 शिक्षक भर्ती ...   \n",
       "76  6800शिक्षकोंकीनियुक्तिकरो  69000 शिक्षक भर्ती ...   \n",
       "77  6800शिक्षकोंकीनियुक्तिकरो  69000 शिक्षक भर्ती ...   \n",
       "78  6800शिक्षकोंकीनियुक्तिकरो  69000 शिक्षक भर्ती ...   \n",
       "79  मुख्यमंत्री जी को मेरा प्रणाम। आप ने पूछा है।उ...   \n",
       "\n",
       "                    comment_id language  \\\n",
       "0   Ugz65S0bU0aJ3UDeVvZ4AaABAg       ne   \n",
       "1   Ugy3DIK-GalL4RdpCgR4AaABAg       hi   \n",
       "2   UgweAYDCotz6SUutOFN4AaABAg       hi   \n",
       "3   UgyXnzQ0YBFPO6xTEQR4AaABAg       en   \n",
       "4   UgzdYA2h-n1grOCyECJ4AaABAg       hi   \n",
       "..                         ...      ...   \n",
       "75  UgxLnL-bijap4R1NQch4AaABAg       hi   \n",
       "76  Ugx8u6S4ABvtv7R8YF54AaABAg       hi   \n",
       "77  Ugz80vaWPGj8KSq2MD94AaABAg       hi   \n",
       "78  UgzYqkyc1iHdLMcV35d4AaABAg       hi   \n",
       "79  UgxnfNTpd7lHPRKCUl14AaABAg       hi   \n",
       "\n",
       "                                           comment_en  Subjectivity  Polarity  \\\n",
       "0                                              Jai Ho        0.0000    0.0000   \n",
       "1   May the grace of Lord Ram always be 🙏💞 on Shri...        0.0000    0.0000   \n",
       "2   Sir, if you have any information related to se...        0.3500    0.0000   \n",
       "3                    Jai Shiv Shanker bum bum her her        0.0000    0.0000   \n",
       "4   May the glory of Uttar Pradesh be hailed by th...        0.0000    0.0000   \n",
       "..                                                ...           ...       ...   \n",
       "75  There are 6800 selected candidates for recruit...        0.0000    0.0000   \n",
       "76  There are 6800 selected candidates for recruit...        0.0000    0.0000   \n",
       "77  There are 6800 selected candidates for recruit...        0.0000    0.0000   \n",
       "78  There are 6800 selected candidates for recruit...        0.0000    0.0000   \n",
       "79  My salutations to the Chief Minister. You have...        0.5625   -0.4375   \n",
       "\n",
       "    Analysis  \n",
       "0    Neutral  \n",
       "1    Neutral  \n",
       "2    Neutral  \n",
       "3    Neutral  \n",
       "4    Neutral  \n",
       "..       ...  \n",
       "75   Neutral  \n",
       "76   Neutral  \n",
       "77   Neutral  \n",
       "78   Neutral  \n",
       "79  Negative  \n",
       "\n",
       "[80 rows x 9 columns]"
      ]
     },
     "execution_count": 34,
     "metadata": {},
     "output_type": "execute_result"
    }
   ],
   "source": [
    "sent_df"
   ]
  },
  {
   "cell_type": "code",
   "execution_count": 35,
   "metadata": {},
   "outputs": [],
   "source": [
    "sent_df.to_csv('Sentiemnt_80_comments.csv')"
   ]
  },
  {
   "cell_type": "code",
   "execution_count": 36,
   "metadata": {},
   "outputs": [
    {
     "data": {
      "image/png": "[encoded data removed]",
      "text/plain": [
       "<Figure size 576x432 with 1 Axes>"
      ]
     },
     "metadata": {
      "needs_background": "light"
     },
     "output_type": "display_data"
    }
   ],
   "source": [
    "from matplotlib import pyplot as plt\n",
    "#Plot the polarity and subjectivity\n",
    "plt.figure(figsize=(8,6))\n",
    "for i in range(0, sent_df.shape[0]):\n",
    "    plt.scatter(sent_df['Polarity'][i], sent_df['Subjectivity'][i], color='Blue')\n",
    "\n",
    "    \n",
    "plt.title('Sentiment Analysis')\n",
    "plt.xlabel('Polarity')\n",
    "plt.ylabel('Subjectivity')\n",
    "plt.show()"
   ]
  },
  {
   "cell_type": "code",
   "execution_count": 37,
   "metadata": {},
   "outputs": [
    {
     "data": {
      "text/plain": [
       "8.8"
      ]
     },
     "execution_count": 37,
     "metadata": {},
     "output_type": "execute_result"
    }
   ],
   "source": [
    "#Get the percentage of Positive Content\n",
    "pcontent= sent_df[sent_df.Analysis == 'Positive']\n",
    "pcontent= pcontent['comment']\n",
    "\n",
    "round(  (pcontent.shape[0] / sent_df.shape[0]) *100 ,1)"
   ]
  },
  {
   "cell_type": "code",
   "execution_count": 38,
   "metadata": {},
   "outputs": [
    {
     "data": {
      "text/plain": [
       "3.8"
      ]
     },
     "execution_count": 38,
     "metadata": {},
     "output_type": "execute_result"
    }
   ],
   "source": [
    "#Get the percentage of Negative Content\n",
    "ncontent= sent_df[sent_df.Analysis == 'Negative']\n",
    "ncontent= ncontent['comment']\n",
    "\n",
    "round(  (ncontent.shape[0] / sent_df.shape[0] *100) ,1)"
   ]
  },
  {
   "cell_type": "code",
   "execution_count": 39,
   "metadata": {},
   "outputs": [
    {
     "data": {
      "image/png": "[encoded data removed]",
      "text/plain": [
       "<Figure size 432x288 with 1 Axes>"
      ]
     },
     "metadata": {
      "needs_background": "light"
     },
     "output_type": "display_data"
    }
   ],
   "source": [
    "#show the value count\n",
    "sent_df['Analysis'].value_counts()\n",
    "#plot and visulize the counts\n",
    "plt.title('Sentiment Analysis')\n",
    "plt.xlabel('Sentiment')\n",
    "plt.ylabel('Counts')\n",
    "sent_df['Analysis'].value_counts().plot(kind='bar')\n",
    "plt.show()"
   ]
  },
  {
   "cell_type": "code",
   "execution_count": null,
   "metadata": {},
   "outputs": [],
   "source": []
  },
  {
   "cell_type": "code",
   "execution_count": null,
   "metadata": {},
   "outputs": [],
   "source": []
  }
 ],
 "metadata": {
  "kernelspec": {
   "display_name": "Python 3.9.7 ('pack')",
   "language": "python",
   "name": "python3"
  },
  "language_info": {
   "codemirror_mode": {
    "name": "ipython",
    "version": 3
   },
   "file_extension": ".py",
   "mimetype": "text/x-python",
   "name": "python",
   "nbconvert_exporter": "python",
   "pygments_lexer": "ipython3",
   "version": "3.9.7"
  },
  "orig_nbformat": 4,
  "vscode": {
   "interpreter": {
    "hash": "daacaa9781d404456528cfccfa14b883bbb9440b09d0e447695cf9cd2bcc65be"
   }
  }
 },
 "nbformat": 4,
 "nbformat_minor": 2
}
