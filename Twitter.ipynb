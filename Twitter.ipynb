{
 "cells": [
  {
   "cell_type": "code",
   "execution_count": 21,
   "metadata": {},
   "outputs": [],
   "source": [
    "import snscrape.modules.twitter as sntwitter\n",
    "import pandas as pd\n",
    "from time import sleep\n",
    "import re\n",
    "tws = sntwitter.TwitterSearchScraper\n",
    "twu = sntwitter.TwitterUserScraper"
   ]
  },
  {
   "cell_type": "code",
   "execution_count": 22,
   "metadata": {},
   "outputs": [],
   "source": [
    "#username = input('योगीसरकार2_के_100दिन')\n",
    "#number = int(input(100))"
   ]
  },
  {
   "cell_type": "code",
   "execution_count": 23,
   "metadata": {},
   "outputs": [],
   "source": [
    "# get tweets from username from 4th December to 18th December\n",
    "username = 'cmrlofficial'\n",
    "start_date = '2022-12-04'\n",
    "end_date = '2022-12-19'"
   ]
  },
  {
   "cell_type": "code",
   "execution_count": 24,
   "metadata": {},
   "outputs": [],
   "source": [
    "# get data from twitter\n",
    "tweets = tws(f'from:{username} since:{start_date} until:{end_date}').get_items()\n",
    "tweets = list(tweets)\n",
    "\n",
    "# create dataframe\n",
    "df = pd.DataFrame(t.__dict__ for t in tweets)\n",
    "\n",
    "# save dataframe to csv with the username   \n",
    "df.to_csv(f'{username}twiiter_data.csv', index=False)"
   ]
  },
  {
   "cell_type": "code",
   "execution_count": null,
   "metadata": {},
   "outputs": [],
   "source": []
  }
 ],
 "metadata": {
  "kernelspec": {
   "display_name": "pack",
   "language": "python",
   "name": "python3"
  },
  "language_info": {
   "codemirror_mode": {
    "name": "ipython",
    "version": 3
   },
   "file_extension": ".py",
   "mimetype": "text/x-python",
   "name": "python",
   "nbconvert_exporter": "python",
   "pygments_lexer": "ipython3",
   "version": "3.10.8"
  },
  "orig_nbformat": 4,
  "vscode": {
   "interpreter": {
    "hash": "b88035d43cae4ec9859beb9dd03c579ae603966a787fa161926276b5c98c4160"
   }
  }
 },
 "nbformat": 4,
 "nbformat_minor": 2
}
